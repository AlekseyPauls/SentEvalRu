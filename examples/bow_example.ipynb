{
 "cells": [
  {
   "cell_type": "markdown",
   "metadata": {},
   "source": [
    "Import embeddings for checking. You can also import skip-thought and fasttext-idf"
   ]
  },
  {
   "cell_type": "code",
   "execution_count": 1,
   "metadata": {},
   "outputs": [],
   "source": [
    "import bow as embeddings"
   ]
  },
  {
   "cell_type": "markdown",
   "metadata": {},
   "source": [
    "Run bow embeddings for the task SST2. If you want to check embeddings for other tasks, change it in bow.py \"transfer_tasks\".\n",
    "Available tasks: SST2, SST3, MRPC, ReadabilityCl, TagCl, PoemsCl, TREC, STS, SICK"
   ]
  },
  {
   "cell_type": "code",
   "execution_count": 2,
   "metadata": {
    "scrolled": false
   },
   "outputs": [
    {
     "name": "stderr",
     "output_type": "stream",
     "text": [
      "2019-02-03 11:56:07,119 : ***** Transfer task :SST binary *****\n",
      "\n",
      "\n",
      "2019-02-03 11:57:03,030 : Found 97700 words with word vectors, out of         602174 words\n",
      "2019-02-03 11:57:03,047 : Computing embedding for train\n",
      "2019-02-03 11:57:17,005 : Computed train embeddings\n",
      "2019-02-03 11:57:17,005 : Computing embedding for dev\n",
      "2019-02-03 11:57:18,585 : Computed dev embeddings\n",
      "2019-02-03 11:57:18,585 : Computing embedding for test\n",
      "2019-02-03 11:57:21,545 : Computed test embeddings\n",
      "2019-02-03 11:57:21,545 : Training pytorch-MLP-nhid0-rmsprop-bs128 with standard validation..\n",
      "2019-02-03 12:01:27,050 : [('reg:1e-05', 62.2), ('reg:0.0001', 62.22), ('reg:0.001', 62.5), ('reg:0.01', 61.71)]\n",
      "2019-02-03 12:01:27,176 : Validation : best param found is reg = 0.001 with score             62.5\n",
      "2019-02-03 12:01:27,203 : Evaluating...\n",
      "2019-02-03 12:02:13,433 : \n",
      "Dev acc : 62.5 Test acc : 62.3 for SST binary \n",
      "\n"
     ]
    },
    {
     "data": {
      "text/plain": [
       "{'devacc': 62.5, 'acc': 62.3, 'ndev': 18901, 'ntest': 37804}"
      ]
     },
     "execution_count": 2,
     "metadata": {},
     "output_type": "execute_result"
    }
   ],
   "source": [
    "embeddings.check()"
   ]
  }
 ],
 "metadata": {
  "kernelspec": {
   "display_name": "Python 3",
   "language": "python",
   "name": "python3"
  },
  "language_info": {
   "codemirror_mode": {
    "name": "ipython",
    "version": 3
   },
   "file_extension": ".py",
   "mimetype": "text/x-python",
   "name": "python",
   "nbconvert_exporter": "python",
   "pygments_lexer": "ipython3",
   "version": "3.6.8"
  }
 },
 "nbformat": 4,
 "nbformat_minor": 2
}
